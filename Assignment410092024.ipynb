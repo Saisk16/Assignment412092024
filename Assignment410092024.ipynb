{
 "cells": [
  {
   "cell_type": "code",
   "execution_count": null,
   "id": "951fc506-d2e6-49ae-b4ce-188b14f986a5",
   "metadata": {},
   "outputs": [],
   "source": [
    "#Q1. Discuss the scenarios where multithreading is preferable to multiprocessing and scenarios where \n",
    "#multiprocessing is a better choice\n",
    "# Soln. Multithreading is used where the CPU is waiting for an answer, an input output task such as database queries, downloading data.\n",
    "# managing multiple tabs/browsers, best for task of same application\n",
    "# \n",
    "#multiprocessing is used where task are independent and can run in isolation, some computation and server handling"
   ]
  },
  {
   "cell_type": "code",
   "execution_count": 2,
   "id": "37c9ce01-2905-45e6-aac4-9b32c3fa2831",
   "metadata": {},
   "outputs": [],
   "source": [
    "# Q2Describe what a process pool is and how it helps in managing multiple processes efficiently\n",
    "# Soln. provide an interface for execution of  ad hoc task with a variable number of arguments, much like the target property on the Process object, but does not require that we choosing starting or waiting for a task to complete.\n",
    "import multiprocessing\n",
    "pool = multiprocessing.Pool()\n"
   ]
  },
  {
   "cell_type": "code",
   "execution_count": null,
   "id": "34fcd4c8-ccab-43c6-bdeb-3698262f08c5",
   "metadata": {},
   "outputs": [],
   "source": [
    "#Q3 Explain what multiprocessing is and why it is used in Python programs.\n",
    "# Soln.Multiprocessing is the process that allows efficient paralle execution of task. Multiprocessing creates separate memory spaces for each process, allowing them to run truly in parallel on multiple cores. Multiprocessing reduces the total time to execute a program.\n"
   ]
  },
  {
   "cell_type": "code",
   "execution_count": 52,
   "id": "d377497f-9ef9-4be8-b45c-386702989186",
   "metadata": {},
   "outputs": [
    {
     "name": "stdout",
     "output_type": "stream",
     "text": [
      "[1, 3, 4, 3]\n",
      "normal time is 2.002385667990893\n",
      "[1, 3, 4, 3]\n",
      "with threading time is 2.0028163010720164\n"
     ]
    },
    {
     "ename": "AttributeError",
     "evalue": "module 'threading' has no attribute 'lock'",
     "output_type": "error",
     "traceback": [
      "\u001b[0;31m---------------------------------------------------------------------------\u001b[0m",
      "\u001b[0;31mAttributeError\u001b[0m                            Traceback (most recent call last)",
      "Cell \u001b[0;32mIn[52], line 46\u001b[0m\n\u001b[1;32m     44\u001b[0m start2\u001b[38;5;241m=\u001b[39mtime\u001b[38;5;241m.\u001b[39mperf_counter()\n\u001b[1;32m     45\u001b[0m shared_counter\u001b[38;5;241m=\u001b[39m\u001b[38;5;241m0\u001b[39m\n\u001b[0;32m---> 46\u001b[0m counter_lock\u001b[38;5;241m=\u001b[39m\u001b[43mthreading\u001b[49m\u001b[38;5;241;43m.\u001b[39;49m\u001b[43mlock\u001b[49m()\n\u001b[1;32m     47\u001b[0m \u001b[38;5;28;01mdef\u001b[39;00m \u001b[38;5;21mincreament_shared_counter\u001b[39m(x):\n\u001b[1;32m     48\u001b[0m     \u001b[38;5;28;01mglobal\u001b[39;00m shared_counter\n",
      "\u001b[0;31mAttributeError\u001b[0m: module 'threading' has no attribute 'lock'"
     ]
    }
   ],
   "source": [
    "#Q4. Write a Python program using multithreading where one thread adds numbers to a list, and another \n",
    "#thread removes numbers from the list. Implement a mechanism to avoid race conditions using \n",
    "#threading.Lock\n",
    "import threading\n",
    "import numpy as np\n",
    "import os\n",
    "import time\n",
    "A=[1,3,4,5]\n",
    "def add(n):\n",
    "    A.append(n)\n",
    "    time.sleep(1)\n",
    "\n",
    "def rem(n):\n",
    "    A.remove(n)\n",
    "    time.sleep(1)\n",
    "start=time.perf_counter()\n",
    "add(3)\n",
    "rem(5)\n",
    "end=time.perf_counter()\n",
    "print(A)\n",
    "print(f\"normal time is {end-start}\")\n",
    "\n",
    "\n",
    "A2=[1,3,4,5]\n",
    "def add(n):\n",
    "    A2.append(n)\n",
    "    time.sleep(1)\n",
    "\n",
    "def rem(n):\n",
    "    A2.remove(n)\n",
    "    time.sleep(1)\n",
    "start1=time.perf_counter()\n",
    "add(3)\n",
    "rem(5)\n",
    "print(A2)\n",
    "\n",
    "t1=threading.Thread(target=add,args=[3])\n",
    "t2=threading.Thread(target=rem,args=[5])\n",
    "t1.start\n",
    "t2.start\n",
    "end1=time.perf_counter()\n",
    "print(f\"with threading time is {end1-start1}\")\n",
    "\n",
    "start2=time.perf_counter()\n",
    "shared_counter=0\n",
    "counter_lock=threading.lock()\n",
    "def increament_shared_counter(x):\n",
    "    global shared_counter\n",
    "    with Counter_lock:\n",
    "        shared_counter=shared_counter+1\n",
    "    print(f\"Thread {x}: increamented shared counter to {shared_counter}\")\n",
    "    time.sleep(1)\n",
    "threads=[threading.Threads(target=increament_shared_counter,args=(i,)) for i in A2 ]\n",
    "for thread in threads:\n",
    "     thread.start\n",
    "for thread in threads:\n",
    "     thread.join\n",
    "end2=time.perf_counter()\n",
    "print(f\"end2-start2\")"
   ]
  },
  {
   "cell_type": "code",
   "execution_count": null,
   "id": "79ff4c68-d57f-4b51-bc62-f177db740ed9",
   "metadata": {},
   "outputs": [],
   "source": [
    "# 5. Describe the methods and tools available in Python for safely sharing data between threads and \n",
    "#processes\n",
    "# soln. Data sharing between thread and processes can occur using synchronization mechanism,process class and threading module."
   ]
  },
  {
   "cell_type": "code",
   "execution_count": null,
   "id": "d574ff9a-31f5-4710-abfc-5a29f277855c",
   "metadata": {},
   "outputs": [],
   "source": [
    " #6.Discuss why it’s crucial to handle exceptions in concurrent programs and the techniques available for \n",
    "#doing so.\n",
    "# soln. Exception handling is neccessary for code readibility,Error recovery.\n",
    "# Examples of practices: user friendly error messages, expected error documentation."
   ]
  },
  {
   "cell_type": "code",
   "execution_count": 40,
   "id": "a7afe53b-3abc-487d-994a-ab3d3944b36d",
   "metadata": {},
   "outputs": [
    {
     "name": "stdout",
     "output_type": "stream",
     "text": [
      "[1, 2, 3, 4, 5, 6, 7, 8, 9]\n",
      "factorial of all elements is\n",
      "[1, 2, 6, 24, 120, 720, 5040, 40320, 362880]\n",
      "time for execution normally is0.0004216389497742057\n",
      ".....................................................\n",
      "[1, 2, 3, 4, 5, 6, 7, 8, 9]\n",
      "factorial of all elements is\n",
      "[1, 2, 6, 24, 120, 720, 5040, 40320, 362880]\n",
      "time for execution with concurrent.future is 0.002596714999526739\n"
     ]
    }
   ],
   "source": [
    " #7.Create a program that uses a thread pool to calculate the factorial of numbers from 1 to 10 concurrently. \n",
    "#Use concurrent.futures.ThreadPoolExecutor to manage the threads\n",
    "#soln.\n",
    "import concurrent.futures\n",
    "import os\n",
    "import time\n",
    "\n",
    "start=time.perf_counter()\n",
    "Arr=range(1,10)\n",
    "A=list(Arr)\n",
    "Af=[]\n",
    "print(A)\n",
    "def factorial(n):\n",
    "        if n<1:\n",
    "            return 1\n",
    "        else:\n",
    "            return n*factorial(n-1)\n",
    "\n",
    "for i in A:\n",
    "    Af.append(factorial(i))\n",
    "print(\"factorial of all elements is\")   \n",
    "print(Af)\n",
    "end=time.perf_counter()\n",
    "print(f\"time for execution normally is{end-start}\")\n",
    "\n",
    "print(\".....................................................\")\n",
    "\n",
    "start1=time.perf_counter()\n",
    "Arr=range(1,10)\n",
    "A=list(Arr)\n",
    "Af=[]\n",
    "print(A)\n",
    "def factorial(n):\n",
    "        if n<1:\n",
    "            return 1\n",
    "        else:\n",
    "            return n*factorial(n-1)\n",
    "\n",
    "for i in A:\n",
    "    Af.append(factorial(i))\n",
    "    \n",
    "print(\"factorial of all elements is\")   \n",
    "print(Af)\n",
    "with concurrent.futures.ThreadPoolExecutor() as executor:\n",
    "        executor.map(factorial,A,Af)\n",
    "\n",
    "end1=time.perf_counter()\n",
    "print(f\"time for execution with concurrent.future is {end1-start1}\")"
   ]
  },
  {
   "cell_type": "code",
   "execution_count": 22,
   "id": "76d1e4a9-f58b-486c-a0d7-ecc68aa91a41",
   "metadata": {},
   "outputs": [
    {
     "name": "stdout",
     "output_type": "stream",
     "text": [
      "square of 1 is 1\n",
      "square of 2 is 4\n",
      "square of 3 is 9\n",
      "square of 4 is 16\n",
      "square of 5 is 25\n",
      "square of 6 is 36\n",
      "square of 7 is 49\n",
      "square of 8 is 64\n",
      "square of 9 is 81\n",
      "computation time normally is 9.009694686043076 seconds\n",
      "the square of 2 is 4     the square of 5 is 25     the square of 4 is 16     the square of 3 is 9     the square of 1 is 1     the square of 7 is 49     the square of 6 is 36     the square of 9 is 81     the square of 8 is 64     \n",
      "\n",
      "\n",
      "\n",
      "\n",
      "\n",
      "\n",
      "\n",
      "\n",
      "computation time with multiprocessing is 1.5534542710520327 seconds\n"
     ]
    }
   ],
   "source": [
    "#8.Create a Python program that uses multiprocessing.Pool to compute the square of numbers from 1 to 10 in \n",
    "#parallel. Measure the time taken to perform this computation using a pool of different sizes (e.g., 2, 4, 8 \n",
    "#processes)\n",
    "import os\n",
    "import multiprocessing\n",
    "import numpy as np\n",
    "import time\n",
    "start=time.perf_counter()\n",
    "\n",
    "arr=range(1,10)\n",
    "A=list(arr)\n",
    "\n",
    "for i in A:\n",
    "    time.sleep(1)\n",
    "    print(f\"square of {i} is {i**2}\")\n",
    "\n",
    "end=time.perf_counter()\n",
    "print(f\"computation time normally is {end-start} seconds\")\n",
    "\n",
    "\n",
    "start1=time.perf_counter()\n",
    "def square(no):\n",
    "    time.sleep(1)\n",
    "    result= no**2\n",
    "    print(f\"the square of {no} is {result}     \")\n",
    "with multiprocessing.Pool() as pool:\n",
    "    pool.map(square,A)\n",
    "    end1=time.perf_counter()\n",
    "print(f\"computation time with multiprocessing is {end1-start1} seconds\")\n",
    "\n"
   ]
  }
 ],
 "metadata": {
  "kernelspec": {
   "display_name": "Python 3 (ipykernel)",
   "language": "python",
   "name": "python3"
  },
  "language_info": {
   "codemirror_mode": {
    "name": "ipython",
    "version": 3
   },
   "file_extension": ".py",
   "mimetype": "text/x-python",
   "name": "python",
   "nbconvert_exporter": "python",
   "pygments_lexer": "ipython3",
   "version": "3.10.8"
  }
 },
 "nbformat": 4,
 "nbformat_minor": 5
}
